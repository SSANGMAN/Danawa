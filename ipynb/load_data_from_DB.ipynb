{
 "cells": [
  {
   "cell_type": "code",
   "execution_count": 104,
   "metadata": {
    "ExecuteTime": {
     "end_time": "2020-06-01T11:59:15.714575Z",
     "start_time": "2020-06-01T11:59:15.708514Z"
    }
   },
   "outputs": [],
   "source": [
    "import pymysql\n",
    "import numpy as np\n",
    "import pandas as pd\n",
    "import csv\n",
    "import streamlit as st\n",
    "import time\n",
    "\n",
    "import warnings\n",
    "warnings.filterwarnings('ignore')"
   ]
  },
  {
   "cell_type": "code",
   "execution_count": 94,
   "metadata": {
    "ExecuteTime": {
     "end_time": "2020-06-01T11:16:50.652021Z",
     "start_time": "2020-06-01T11:16:50.622780Z"
    }
   },
   "outputs": [],
   "source": [
    "connect = pymysql.connect(host='localhost', user='root', password= '4643', db='danawa', charset='utf8mb4')\n",
    "cur = connect.cursor()\n",
    "\n",
    "def make_csv(table, condition, save_file_name):\n",
    "    \n",
    "    columns = []\n",
    "    sql = \"SHOW FULL COLUMNS FROM {}\".format(table)\n",
    "    cur.execute(sql)\n",
    "    rows = cur.fetchall()\n",
    "    \n",
    "    for i in range(len(rows)):\n",
    "        columns.append(rows[i][0])\n",
    "    \n",
    "    \n",
    "    sql = 'SELECT * FROM {} WHERE {}'.format(table, condition)\n",
    "    cur.execute(sql)\n",
    "    \n",
    "    rows = cur.fetchall()\n",
    "    \n",
    "    rows = list(rows)\n",
    "    for row in range(len(rows)):\n",
    "        rows[row] = list(rows[row])\n",
    "    \n",
    "    for i in range(len(rows)):\n",
    "        rows[i][0] = rows[i][0].strftime(\"%Y-%m-%d\")\n",
    "    \n",
    "    f = open(save_file_name, 'w', encoding = 'cp949', newline = '')\n",
    "    wr = csv.writer(f)\n",
    "    \n",
    "    wr.writerow(columns)\n",
    "    \n",
    "    for i in range(len(rows)):\n",
    "        wr.writerow(rows[i])\n",
    "\n",
    "    f.close()\n",
    "    connect.close()"
   ]
  },
  {
   "cell_type": "code",
   "execution_count": 95,
   "metadata": {
    "ExecuteTime": {
     "end_time": "2020-06-01T11:16:50.848720Z",
     "start_time": "2020-06-01T11:16:50.757057Z"
    },
    "scrolled": false
   },
   "outputs": [],
   "source": [
    "make_csv(table = 'gpu', condition = \"DATE(CRAWL_DATE) < '2020-06-01'\", save_file_name = 'test.csv')"
   ]
  },
  {
   "cell_type": "code",
   "execution_count": 99,
   "metadata": {
    "ExecuteTime": {
     "end_time": "2020-06-01T11:17:49.184094Z",
     "start_time": "2020-06-01T11:17:49.132229Z"
    }
   },
   "outputs": [
    {
     "data": {
      "text/html": [
       "<div>\n",
       "<style scoped>\n",
       "    .dataframe tbody tr th:only-of-type {\n",
       "        vertical-align: middle;\n",
       "    }\n",
       "\n",
       "    .dataframe tbody tr th {\n",
       "        vertical-align: top;\n",
       "    }\n",
       "\n",
       "    .dataframe thead th {\n",
       "        text-align: right;\n",
       "    }\n",
       "</style>\n",
       "<table border=\"1\" class=\"dataframe\">\n",
       "  <thead>\n",
       "    <tr style=\"text-align: right;\">\n",
       "      <th></th>\n",
       "      <th>CRAWL_DATE</th>\n",
       "      <th>HOUR</th>\n",
       "      <th>RANKING</th>\n",
       "      <th>BRAND</th>\n",
       "      <th>NAME</th>\n",
       "      <th>PRICE_N</th>\n",
       "      <th>RELEASE_DATE</th>\n",
       "    </tr>\n",
       "  </thead>\n",
       "  <tbody>\n",
       "    <tr>\n",
       "      <th>0</th>\n",
       "      <td>2020-05-27</td>\n",
       "      <td>1</td>\n",
       "      <td>1</td>\n",
       "      <td>GAINWARD</td>\n",
       "      <td>GAINWARD 지포스 GTX 1650 고스트 D6 4GB</td>\n",
       "      <td>230000</td>\n",
       "      <td>2020-04-01</td>\n",
       "    </tr>\n",
       "    <tr>\n",
       "      <th>1</th>\n",
       "      <td>2020-05-27</td>\n",
       "      <td>1</td>\n",
       "      <td>2</td>\n",
       "      <td>리드텍</td>\n",
       "      <td>리드텍 WinFast 지포스 GTX 1650 D5 4GB</td>\n",
       "      <td>200000</td>\n",
       "      <td>2019-06-01</td>\n",
       "    </tr>\n",
       "    <tr>\n",
       "      <th>2</th>\n",
       "      <td>2020-05-27</td>\n",
       "      <td>1</td>\n",
       "      <td>3</td>\n",
       "      <td>이엠텍</td>\n",
       "      <td>이엠텍 지포스 RTX 2070 SUPER MIRACLE D6 8GB</td>\n",
       "      <td>695000</td>\n",
       "      <td>2019-10-01</td>\n",
       "    </tr>\n",
       "    <tr>\n",
       "      <th>3</th>\n",
       "      <td>2020-05-27</td>\n",
       "      <td>1</td>\n",
       "      <td>4</td>\n",
       "      <td>이엠텍</td>\n",
       "      <td>이엠텍 지포스 GTX 1660 SUPER STORM X Dual OC D6 6GB</td>\n",
       "      <td>320000</td>\n",
       "      <td>2019-10-01</td>\n",
       "    </tr>\n",
       "    <tr>\n",
       "      <th>4</th>\n",
       "      <td>2020-05-27</td>\n",
       "      <td>1</td>\n",
       "      <td>5</td>\n",
       "      <td>ZOTAC</td>\n",
       "      <td>ZOTAC GAMING 지포스 GTX 1660 SUPER AMP D6 6GB 백플레이트</td>\n",
       "      <td>321000</td>\n",
       "      <td>2019-11-01</td>\n",
       "    </tr>\n",
       "    <tr>\n",
       "      <th>...</th>\n",
       "      <td>...</td>\n",
       "      <td>...</td>\n",
       "      <td>...</td>\n",
       "      <td>...</td>\n",
       "      <td>...</td>\n",
       "      <td>...</td>\n",
       "      <td>...</td>\n",
       "    </tr>\n",
       "    <tr>\n",
       "      <th>1745</th>\n",
       "      <td>2020-05-31</td>\n",
       "      <td>23</td>\n",
       "      <td>46</td>\n",
       "      <td>MSI</td>\n",
       "      <td>MSI 지포스 RTX 2080 SUPER 게이밍 X 트리오 D6 8GB 트라이프로져</td>\n",
       "      <td>1180000</td>\n",
       "      <td>2019-07-01</td>\n",
       "    </tr>\n",
       "    <tr>\n",
       "      <th>1746</th>\n",
       "      <td>2020-05-31</td>\n",
       "      <td>23</td>\n",
       "      <td>47</td>\n",
       "      <td>MSI</td>\n",
       "      <td>MSI 지포스 RTX 2070 SUPER 벤투스 GP OC D6 8GB</td>\n",
       "      <td>717000</td>\n",
       "      <td>2020-03-01</td>\n",
       "    </tr>\n",
       "    <tr>\n",
       "      <th>1747</th>\n",
       "      <td>2020-05-31</td>\n",
       "      <td>23</td>\n",
       "      <td>48</td>\n",
       "      <td>MSI</td>\n",
       "      <td>MSI 지포스 RTX 2060 SUPER 벤투스 GP OC D6 8GB</td>\n",
       "      <td>586000</td>\n",
       "      <td>2019-11-01</td>\n",
       "    </tr>\n",
       "    <tr>\n",
       "      <th>1748</th>\n",
       "      <td>2020-05-31</td>\n",
       "      <td>23</td>\n",
       "      <td>49</td>\n",
       "      <td>ZOTAC</td>\n",
       "      <td>ZOTAC GAMING 지포스 RTX 2070 SUPER AMP D6 8GB</td>\n",
       "      <td>700000</td>\n",
       "      <td>2019-07-01</td>\n",
       "    </tr>\n",
       "    <tr>\n",
       "      <th>1749</th>\n",
       "      <td>2020-05-31</td>\n",
       "      <td>23</td>\n",
       "      <td>50</td>\n",
       "      <td>이엠텍</td>\n",
       "      <td>이엠텍 지포스 GTX 1660 MIRACLE D5 6GB</td>\n",
       "      <td>285000</td>\n",
       "      <td>2019-10-01</td>\n",
       "    </tr>\n",
       "  </tbody>\n",
       "</table>\n",
       "<p>1750 rows × 7 columns</p>\n",
       "</div>"
      ],
      "text/plain": [
       "      CRAWL_DATE  HOUR  RANKING     BRAND  \\\n",
       "0     2020-05-27     1        1  GAINWARD   \n",
       "1     2020-05-27     1        2       리드텍   \n",
       "2     2020-05-27     1        3       이엠텍   \n",
       "3     2020-05-27     1        4       이엠텍   \n",
       "4     2020-05-27     1        5     ZOTAC   \n",
       "...          ...   ...      ...       ...   \n",
       "1745  2020-05-31    23       46       MSI   \n",
       "1746  2020-05-31    23       47       MSI   \n",
       "1747  2020-05-31    23       48       MSI   \n",
       "1748  2020-05-31    23       49     ZOTAC   \n",
       "1749  2020-05-31    23       50       이엠텍   \n",
       "\n",
       "                                                  NAME  PRICE_N RELEASE_DATE  \n",
       "0                     GAINWARD 지포스 GTX 1650 고스트 D6 4GB   230000   2020-04-01  \n",
       "1                      리드텍 WinFast 지포스 GTX 1650 D5 4GB   200000   2019-06-01  \n",
       "2                이엠텍 지포스 RTX 2070 SUPER MIRACLE D6 8GB   695000   2019-10-01  \n",
       "3        이엠텍 지포스 GTX 1660 SUPER STORM X Dual OC D6 6GB   320000   2019-10-01  \n",
       "4     ZOTAC GAMING 지포스 GTX 1660 SUPER AMP D6 6GB 백플레이트   321000   2019-11-01  \n",
       "...                                                ...      ...          ...  \n",
       "1745    MSI 지포스 RTX 2080 SUPER 게이밍 X 트리오 D6 8GB 트라이프로져  1180000   2019-07-01  \n",
       "1746           MSI 지포스 RTX 2070 SUPER 벤투스 GP OC D6 8GB   717000   2020-03-01  \n",
       "1747           MSI 지포스 RTX 2060 SUPER 벤투스 GP OC D6 8GB   586000   2019-11-01  \n",
       "1748        ZOTAC GAMING 지포스 RTX 2070 SUPER AMP D6 8GB   700000   2019-07-01  \n",
       "1749                   이엠텍 지포스 GTX 1660 MIRACLE D5 6GB   285000   2019-10-01  \n",
       "\n",
       "[1750 rows x 7 columns]"
      ]
     },
     "execution_count": 99,
     "metadata": {},
     "output_type": "execute_result"
    }
   ],
   "source": [
    "df = pd.read_csv('test.csv', encoding = 'cp949')\n",
    "df"
   ]
  },
  {
   "cell_type": "code",
   "execution_count": 110,
   "metadata": {
    "ExecuteTime": {
     "end_time": "2020-06-01T12:03:17.338998Z",
     "start_time": "2020-06-01T12:03:17.328528Z"
    }
   },
   "outputs": [],
   "source": [
    "st.write('Hello, world!')"
   ]
  },
  {
   "cell_type": "code",
   "execution_count": 111,
   "metadata": {
    "ExecuteTime": {
     "end_time": "2020-06-01T12:03:17.551491Z",
     "start_time": "2020-06-01T12:03:17.542651Z"
    }
   },
   "outputs": [],
   "source": [
    "x = st.slider('x')\n",
    "st.write(x, 'squared is', x * x)"
   ]
  },
  {
   "cell_type": "code",
   "execution_count": 112,
   "metadata": {
    "ExecuteTime": {
     "end_time": "2020-06-01T12:04:45.841578Z",
     "start_time": "2020-06-01T12:04:43.740192Z"
    }
   },
   "outputs": [],
   "source": [
    "import streamlit as st\n",
    "import pandas as pd\n",
    "\n",
    "# Reuse this data across runs!\n",
    "read_and_cache_csv = st.cache(pd.read_csv)\n",
    "\n",
    "BUCKET = \"https://streamlit-self-driving.s3-us-west-2.amazonaws.com/\"\n",
    "data = read_and_cache_csv(BUCKET + \"labels.csv.gz\", nrows=1000)\n",
    "desired_label = st.selectbox('Filter to:', ['car', 'truck'])\n",
    "st.write(data[data.label == desired_label])"
   ]
  },
  {
   "cell_type": "code",
   "execution_count": null,
   "metadata": {},
   "outputs": [],
   "source": []
  }
 ],
 "metadata": {
  "kernelspec": {
   "display_name": "Python 3",
   "language": "python",
   "name": "python3"
  },
  "language_info": {
   "codemirror_mode": {
    "name": "ipython",
    "version": 3
   },
   "file_extension": ".py",
   "mimetype": "text/x-python",
   "name": "python",
   "nbconvert_exporter": "python",
   "pygments_lexer": "ipython3",
   "version": "3.7.7"
  },
  "toc": {
   "base_numbering": 1,
   "nav_menu": {},
   "number_sections": true,
   "sideBar": true,
   "skip_h1_title": false,
   "title_cell": "Table of Contents",
   "title_sidebar": "Contents",
   "toc_cell": false,
   "toc_position": {},
   "toc_section_display": true,
   "toc_window_display": false
  },
  "varInspector": {
   "cols": {
    "lenName": 16,
    "lenType": 16,
    "lenVar": 40
   },
   "kernels_config": {
    "python": {
     "delete_cmd_postfix": "",
     "delete_cmd_prefix": "del ",
     "library": "var_list.py",
     "varRefreshCmd": "print(var_dic_list())"
    },
    "r": {
     "delete_cmd_postfix": ") ",
     "delete_cmd_prefix": "rm(",
     "library": "var_list.r",
     "varRefreshCmd": "cat(var_dic_list()) "
    }
   },
   "types_to_exclude": [
    "module",
    "function",
    "builtin_function_or_method",
    "instance",
    "_Feature"
   ],
   "window_display": false
  }
 },
 "nbformat": 4,
 "nbformat_minor": 4
}
