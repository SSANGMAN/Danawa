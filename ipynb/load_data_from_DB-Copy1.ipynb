{
 "cells": [
  {
   "cell_type": "code",
   "execution_count": 1,
   "metadata": {
    "ExecuteTime": {
     "end_time": "2020-06-03T06:28:35.171718Z",
     "start_time": "2020-06-03T06:28:33.423363Z"
    }
   },
   "outputs": [],
   "source": [
    "import pymysql\n",
    "import numpy as np\n",
    "import pandas as pd\n",
    "import csv\n",
    "import streamlit as st\n",
    "import time\n",
    "\n",
    "import warnings\n",
    "warnings.filterwarnings('ignore')"
   ]
  },
  {
   "cell_type": "code",
   "execution_count": 13,
   "metadata": {
    "ExecuteTime": {
     "end_time": "2020-06-03T06:30:14.580124Z",
     "start_time": "2020-06-03T06:30:14.547604Z"
    }
   },
   "outputs": [],
   "source": [
    "connect = pymysql.connect(host='localhost', user='root', password= '4643', db='danawa', charset='utf8mb4')\n",
    "cur = connect.cursor()\n",
    "\n",
    "def make_csv(table, condition, save_file_name):\n",
    "    \n",
    "    columns = []\n",
    "    sql = \"SHOW FULL COLUMNS FROM {}\".format(table)\n",
    "    cur.execute(sql)\n",
    "    rows = cur.fetchall()\n",
    "    \n",
    "    for i in range(len(rows)):\n",
    "        columns.append(rows[i][0])\n",
    "    \n",
    "    \n",
    "    sql = 'SELECT * FROM {} WHERE {}'.format(table, condition)\n",
    "    cur.execute(sql)\n",
    "    \n",
    "    rows = cur.fetchall()\n",
    "    \n",
    "    rows = list(rows)\n",
    "    for row in range(len(rows)):\n",
    "        rows[row] = list(rows[row])\n",
    "    \n",
    "    for i in range(len(rows)):\n",
    "        rows[i][0] = rows[i][0].strftime(\"%Y-%m-%d\")\n",
    "    \n",
    "    f = open(save_file_name, 'w', encoding = 'cp949', newline = '')\n",
    "    wr = csv.writer(f)\n",
    "    \n",
    "    wr.writerow(columns)\n",
    "    \n",
    "    for i in range(len(rows)):\n",
    "        wr.writerow(rows[i])\n",
    "    \n",
    "    f.close()\n",
    "    connect.close()\n",
    "    \n",
    "    return f"
   ]
  },
  {
   "cell_type": "markdown",
   "metadata": {},
   "source": [
    "## Modify above code"
   ]
  },
  {
   "cell_type": "code",
   "execution_count": 128,
   "metadata": {
    "ExecuteTime": {
     "end_time": "2020-06-03T07:03:47.339867Z",
     "start_time": "2020-06-03T07:03:47.328563Z"
    }
   },
   "outputs": [],
   "source": [
    "def import_data(table, start_date, end_date):\n",
    "    connect = pymysql.connect(host = 'localhost', user = 'root', password = '4643', db = 'danawa', charset = 'utf8mb4')\n",
    "    cur = connect.cursor()\n",
    "    \n",
    "    col_sql = \"SHOW FULL COLUMNS FROM {}\".format(table)\n",
    "    cur.execute(col_sql)\n",
    "    col_info = cur.fetchall()\n",
    "    \n",
    "    columns = [col[0] for col in col_info]\n",
    "    \n",
    "    sql = \"SELECT * FROM {} WHERE DATE(CRAWL_DATE) >= '{}' AND DATE(CRAWL_DATE) <= '{}'\".format(table,start_date, end_date)\n",
    "    print(sql)\n",
    "    \n",
    "    cur.execute(sql)\n",
    "    result = cur.fetchall()\n",
    "    \n",
    "    connect.close()\n",
    "    \n",
    "    df = pd.DataFrame(result, columns = columns)\n",
    "    \n",
    "    return df"
   ]
  },
  {
   "cell_type": "code",
   "execution_count": 129,
   "metadata": {
    "ExecuteTime": {
     "end_time": "2020-06-03T07:03:47.495487Z",
     "start_time": "2020-06-03T07:03:47.450536Z"
    }
   },
   "outputs": [
    {
     "name": "stdout",
     "output_type": "stream",
     "text": [
      "SELECT * FROM gpu WHERE DATE(CRAWL_DATE) >= '2020-06-01' AND DATE(CRAWL_DATE) <= '2020-06-02'\n"
     ]
    },
    {
     "data": {
      "text/html": [
       "<div>\n",
       "<style scoped>\n",
       "    .dataframe tbody tr th:only-of-type {\n",
       "        vertical-align: middle;\n",
       "    }\n",
       "\n",
       "    .dataframe tbody tr th {\n",
       "        vertical-align: top;\n",
       "    }\n",
       "\n",
       "    .dataframe thead th {\n",
       "        text-align: right;\n",
       "    }\n",
       "</style>\n",
       "<table border=\"1\" class=\"dataframe\">\n",
       "  <thead>\n",
       "    <tr style=\"text-align: right;\">\n",
       "      <th></th>\n",
       "      <th>CRAWL_DATE</th>\n",
       "      <th>HOUR</th>\n",
       "      <th>RANKING</th>\n",
       "      <th>BRAND</th>\n",
       "      <th>NAME</th>\n",
       "      <th>PRICE</th>\n",
       "      <th>RELEASE_DATE</th>\n",
       "    </tr>\n",
       "  </thead>\n",
       "  <tbody>\n",
       "    <tr>\n",
       "      <th>0</th>\n",
       "      <td>2020-06-01</td>\n",
       "      <td>0</td>\n",
       "      <td>1</td>\n",
       "      <td>GAINWARD</td>\n",
       "      <td>GAINWARD 지포스 GTX 1660 SUPER 고스트 OC D6 6GB 백플레이트</td>\n",
       "      <td>347000</td>\n",
       "      <td>2019-10-01</td>\n",
       "    </tr>\n",
       "    <tr>\n",
       "      <th>1</th>\n",
       "      <td>2020-06-01</td>\n",
       "      <td>0</td>\n",
       "      <td>2</td>\n",
       "      <td>MSI</td>\n",
       "      <td>MSI 라데온 RX 5600 XT 메크 OC D6 6GB</td>\n",
       "      <td>423000</td>\n",
       "      <td>2020-01-01</td>\n",
       "    </tr>\n",
       "    <tr>\n",
       "      <th>2</th>\n",
       "      <td>2020-06-01</td>\n",
       "      <td>0</td>\n",
       "      <td>3</td>\n",
       "      <td>이엠텍</td>\n",
       "      <td>이엠텍 지포스 GTX 1660 MIRACLE D5 6GB</td>\n",
       "      <td>285000</td>\n",
       "      <td>2019-10-01</td>\n",
       "    </tr>\n",
       "    <tr>\n",
       "      <th>3</th>\n",
       "      <td>2020-06-01</td>\n",
       "      <td>0</td>\n",
       "      <td>4</td>\n",
       "      <td>이엠텍</td>\n",
       "      <td>이엠텍 지포스 GTX 1660 SUPER STORM X Dual OC D6 6GB</td>\n",
       "      <td>319000</td>\n",
       "      <td>2019-10-01</td>\n",
       "    </tr>\n",
       "    <tr>\n",
       "      <th>4</th>\n",
       "      <td>2020-06-01</td>\n",
       "      <td>0</td>\n",
       "      <td>5</td>\n",
       "      <td>ZOTAC</td>\n",
       "      <td>ZOTAC GAMING 지포스 GTX 1660 SUPER AMP D6 6GB 백플레이트</td>\n",
       "      <td>319000</td>\n",
       "      <td>2019-11-01</td>\n",
       "    </tr>\n",
       "    <tr>\n",
       "      <th>...</th>\n",
       "      <td>...</td>\n",
       "      <td>...</td>\n",
       "      <td>...</td>\n",
       "      <td>...</td>\n",
       "      <td>...</td>\n",
       "      <td>...</td>\n",
       "      <td>...</td>\n",
       "    </tr>\n",
       "    <tr>\n",
       "      <th>745</th>\n",
       "      <td>2020-06-02</td>\n",
       "      <td>22</td>\n",
       "      <td>46</td>\n",
       "      <td>MSI</td>\n",
       "      <td>MSI 지포스 RTX 2080 Ti 게이밍 X 트리오 D6 11GB 트라이프로져</td>\n",
       "      <td>2679000</td>\n",
       "      <td>2018-09-01</td>\n",
       "    </tr>\n",
       "    <tr>\n",
       "      <th>746</th>\n",
       "      <td>2020-06-02</td>\n",
       "      <td>22</td>\n",
       "      <td>47</td>\n",
       "      <td>GIGABYTE</td>\n",
       "      <td>GIGABYTE 지포스 RTX 2070 SUPER WINDFORCE OC D6 8GB</td>\n",
       "      <td>736000</td>\n",
       "      <td>2019-07-01</td>\n",
       "    </tr>\n",
       "    <tr>\n",
       "      <th>747</th>\n",
       "      <td>2020-06-02</td>\n",
       "      <td>22</td>\n",
       "      <td>48</td>\n",
       "      <td>MSI</td>\n",
       "      <td>MSI 지포스 GTX 1660 SUPER 벤투스 S OC D6 6GB</td>\n",
       "      <td>334000</td>\n",
       "      <td>2019-11-01</td>\n",
       "    </tr>\n",
       "    <tr>\n",
       "      <th>748</th>\n",
       "      <td>2020-06-02</td>\n",
       "      <td>22</td>\n",
       "      <td>49</td>\n",
       "      <td>MSI</td>\n",
       "      <td>MSI 지포스 RTX 2060 SUPER 벤투스 GP OC D6 8GB</td>\n",
       "      <td>589000</td>\n",
       "      <td>2019-11-01</td>\n",
       "    </tr>\n",
       "    <tr>\n",
       "      <th>749</th>\n",
       "      <td>2020-06-02</td>\n",
       "      <td>22</td>\n",
       "      <td>50</td>\n",
       "      <td>갤럭시</td>\n",
       "      <td>갤럭시 GALAX 지포스 GTX 1660 SUPER OC D6 6GB</td>\n",
       "      <td>349000</td>\n",
       "      <td>2019-10-01</td>\n",
       "    </tr>\n",
       "  </tbody>\n",
       "</table>\n",
       "<p>750 rows × 7 columns</p>\n",
       "</div>"
      ],
      "text/plain": [
       "     CRAWL_DATE  HOUR  RANKING     BRAND  \\\n",
       "0    2020-06-01     0        1  GAINWARD   \n",
       "1    2020-06-01     0        2       MSI   \n",
       "2    2020-06-01     0        3       이엠텍   \n",
       "3    2020-06-01     0        4       이엠텍   \n",
       "4    2020-06-01     0        5     ZOTAC   \n",
       "..          ...   ...      ...       ...   \n",
       "745  2020-06-02    22       46       MSI   \n",
       "746  2020-06-02    22       47  GIGABYTE   \n",
       "747  2020-06-02    22       48       MSI   \n",
       "748  2020-06-02    22       49       MSI   \n",
       "749  2020-06-02    22       50       갤럭시   \n",
       "\n",
       "                                                 NAME    PRICE RELEASE_DATE  \n",
       "0     GAINWARD 지포스 GTX 1660 SUPER 고스트 OC D6 6GB 백플레이트   347000   2019-10-01  \n",
       "1                     MSI 라데온 RX 5600 XT 메크 OC D6 6GB   423000   2020-01-01  \n",
       "2                     이엠텍 지포스 GTX 1660 MIRACLE D5 6GB   285000   2019-10-01  \n",
       "3       이엠텍 지포스 GTX 1660 SUPER STORM X Dual OC D6 6GB   319000   2019-10-01  \n",
       "4    ZOTAC GAMING 지포스 GTX 1660 SUPER AMP D6 6GB 백플레이트   319000   2019-11-01  \n",
       "..                                                ...      ...          ...  \n",
       "745      MSI 지포스 RTX 2080 Ti 게이밍 X 트리오 D6 11GB 트라이프로져  2679000   2018-09-01  \n",
       "746   GIGABYTE 지포스 RTX 2070 SUPER WINDFORCE OC D6 8GB   736000   2019-07-01  \n",
       "747            MSI 지포스 GTX 1660 SUPER 벤투스 S OC D6 6GB   334000   2019-11-01  \n",
       "748           MSI 지포스 RTX 2060 SUPER 벤투스 GP OC D6 8GB   589000   2019-11-01  \n",
       "749            갤럭시 GALAX 지포스 GTX 1660 SUPER OC D6 6GB   349000   2019-10-01  \n",
       "\n",
       "[750 rows x 7 columns]"
      ]
     },
     "execution_count": 129,
     "metadata": {},
     "output_type": "execute_result"
    }
   ],
   "source": [
    "df = import_data(table = 'gpu', start_date = '2020-06-01', end_date = '2020-06-02')\n",
    "df"
   ]
  },
  {
   "cell_type": "code",
   "execution_count": null,
   "metadata": {},
   "outputs": [],
   "source": []
  }
 ],
 "metadata": {
  "kernelspec": {
   "display_name": "Python 3",
   "language": "python",
   "name": "python3"
  },
  "language_info": {
   "codemirror_mode": {
    "name": "ipython",
    "version": 3
   },
   "file_extension": ".py",
   "mimetype": "text/x-python",
   "name": "python",
   "nbconvert_exporter": "python",
   "pygments_lexer": "ipython3",
   "version": "3.7.7"
  },
  "toc": {
   "base_numbering": 1,
   "nav_menu": {},
   "number_sections": true,
   "sideBar": true,
   "skip_h1_title": false,
   "title_cell": "Table of Contents",
   "title_sidebar": "Contents",
   "toc_cell": false,
   "toc_position": {},
   "toc_section_display": true,
   "toc_window_display": false
  },
  "varInspector": {
   "cols": {
    "lenName": 16,
    "lenType": 16,
    "lenVar": 40
   },
   "kernels_config": {
    "python": {
     "delete_cmd_postfix": "",
     "delete_cmd_prefix": "del ",
     "library": "var_list.py",
     "varRefreshCmd": "print(var_dic_list())"
    },
    "r": {
     "delete_cmd_postfix": ") ",
     "delete_cmd_prefix": "rm(",
     "library": "var_list.r",
     "varRefreshCmd": "cat(var_dic_list()) "
    }
   },
   "types_to_exclude": [
    "module",
    "function",
    "builtin_function_or_method",
    "instance",
    "_Feature"
   ],
   "window_display": false
  }
 },
 "nbformat": 4,
 "nbformat_minor": 4
}
