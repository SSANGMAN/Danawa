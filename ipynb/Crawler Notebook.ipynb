{
 "cells": [
  {
   "cell_type": "code",
   "execution_count": 1,
   "metadata": {
    "ExecuteTime": {
     "end_time": "2020-05-26T15:24:20.303219Z",
     "start_time": "2020-05-26T15:24:20.082866Z"
    }
   },
   "outputs": [],
   "source": [
    "from selenium import webdriver\n",
    "import time\n",
    "\n",
    "import pymysql\n",
    "import datetime\n",
    "\n",
    "options = webdriver.ChromeOptions()\n",
    "#options.add_argument('headless')\n",
    "options.add_argument(\"user-agent=Mozilla/5.0 (Macintosh; Intel Mac OS X 10_12_6) AppleWebKit/537.36 (KHTML, like Gecko) Chrome/61.0.3163.100 Safari/537.36\")"
   ]
  },
  {
   "cell_type": "code",
   "execution_count": 2,
   "metadata": {
    "ExecuteTime": {
     "end_time": "2020-05-26T15:24:24.176218Z",
     "start_time": "2020-05-26T15:24:20.800592Z"
    }
   },
   "outputs": [],
   "source": [
    "chromedriver = 'C:/Users/PARK/Desktop/Analysis/Danawa/code/chromedriver.exe'\n",
    "driver = webdriver.Chrome(chromedriver, options = options)"
   ]
  },
  {
   "cell_type": "code",
   "execution_count": 3,
   "metadata": {
    "ExecuteTime": {
     "end_time": "2020-05-26T15:24:27.211029Z",
     "start_time": "2020-05-26T15:24:24.266156Z"
    },
    "scrolled": true
   },
   "outputs": [],
   "source": [
    "driver.get('http://shop.danawa.com/pc/?controller=estimateDeal&methods=estimateform')\n",
    "driver.switch_to.frame('IFRAME_SrchOption')\n",
    "\n",
    "gpu_page_xpath = '/html/body/form/div/div[1]/div[1]/div[2]/ul[1]/li[5]/a'\n",
    "driver.find_element_by_xpath(gpu_page_xpath).click()\n",
    "driver.switch_to.default_content()\n",
    "driver.switch_to.frame('IFRAME_ProdList')"
   ]
  },
  {
   "cell_type": "code",
   "execution_count": null,
   "metadata": {
    "ExecuteTime": {
     "start_time": "2020-05-26T15:27:14.128Z"
    },
    "scrolled": false
   },
   "outputs": [
    {
     "name": "stdout",
     "output_type": "stream",
     "text": [
      "Page: 1\n",
      "\n",
      "GAINWARD 지포스 GTX 1650 고스트 D6 4GB\n",
      "230,000\n",
      "2020.04\n",
      "ASUS ROG STRIX 라데온 RX 5700 XT O8G GAMING D6 8GB 대원CTS\n",
      "685,000\n",
      "2020.03\n",
      "이엠텍 지포스 GTX 1660 MIRACLE D5 6GB\n",
      "286,000\n",
      "2019.10\n",
      "이엠텍 지포스 GTX 1660 SUPER STORM X Dual OC D6 6GB\n",
      "320,000\n",
      "2019.10\n",
      "ZOTAC GAMING 지포스 GTX 1660 SUPER AMP D6 6GB 백플레이트\n",
      "321,000\n",
      "2019.11\n",
      "갤럭시 GALAX 지포스 RTX 2070 SUPER EX WHITE OC D6 8GB\n",
      "810,000\n",
      "2019.07\n"
     ]
    }
   ],
   "source": [
    "crawl_date = str(datetime.datetime.now().year) + \"-\" + str(datetime.datetime.now().month) + \"-\" + str(datetime.datetime.now().day)\n",
    "crawl_time = datetime.datetime.now().hour\n",
    "\n",
    "product_name_list = []\n",
    "product_price_list = []\n",
    "product_enroll_list = []\n",
    "\n",
    "for i in range(1, 4):\n",
    "    print(\"Page: {}\\n\".format(i))\n",
    "    page_xpath = \"/html/body/form/div/div[4]/div/a[{}]\".format(i)\n",
    "    driver.find_element_by_xpath(page_xpath).click()\n",
    "    time.sleep(0.5)\n",
    "    \n",
    "    if i == 1:\n",
    "        for j in range(1, 24):\n",
    "            product_name_xpath = \"/html/body/form/div/div[3]/ul/li[{}]/div/div[2]/div[1]/a\".format(j)\n",
    "            product_price_xpath = \"/html/body/form/div/div[3]/ul/li[{}]/div/div[3]/div/dl/dd/span\".format(j)\n",
    "            product_enroll_xpath = \"/html/body/form/div/div[3]/ul/li[{}]/div/div[2]/div[2]/dl/dd\".format(j)\n",
    "            \n",
    "            product_name = driver.find_element_by_xpath(product_name_xpath)\n",
    "            product_price = driver.find_element_by_xpath(product_price_xpath)\n",
    "            product_enroll = driver.find_element_by_xpath(product_enroll_xpath)\n",
    "\n",
    "            print(product_name.text)\n",
    "            print(product_price.text)\n",
    "            print(product_enroll.text)\n",
    "\n",
    "            product_name_list.append(product_name.text)\n",
    "            product_price_list.append(product_price.text)\n",
    "            product_enroll_list.append(product_enroll.text)\n",
    "\n",
    "            time.sleep(1)\n",
    "\n",
    "    elif i == 2:\n",
    "        for j in range(1, 21):\n",
    "            product_name_xpath =  \"/html/body/form/div/div[3]/ul/li[{}]/div/div[2]/div[1]/a\".format(j)\n",
    "            product_price_xpath = \"/html/body/form/div/div[3]/ul/li[{}]/div/div[3]/div/dl/dd/span\".format(j)\n",
    "            product_enroll_xpath = \"/html/body/form/div/div[3]/ul/li[{}]/div/div[2]/div[2]/dl/dd\".format(j)\n",
    "\n",
    "            product_name = driver.find_element_by_xpath(product_name_xpath)\n",
    "            product_price = driver.find_element_by_xpath(product_price_xpath)\n",
    "            product_enroll = driver.find_element_by_xpath(product_enroll_xpath)\n",
    "\n",
    "            print(product_name.text)\n",
    "            print(product_price.text)\n",
    "            print(product_enroll.text)\n",
    "\n",
    "            product_name_list.append(product_name.text)\n",
    "            product_price_list.append(product_price.text)\n",
    "            product_enroll_list.append(product_enroll.text)\n",
    "\n",
    "            time.sleep(1)\n",
    "    \n",
    "    elif i == 3:\n",
    "        for j in range(1, 8):\n",
    "            product_name_xpath =  \"/html/body/form/div/div[3]/ul/li[{}]/div/div[2]/div[1]/a\".format(j)\n",
    "            product_price_xpath = \"/html/body/form/div/div[3]/ul/li[{}]/div/div[3]/div/dl/dd/span\".format(j)\n",
    "            product_enroll_xpath = \"/html/body/form/div/div[3]/ul/li[{}]/div/div[2]/div[2]/dl/dd\".format(j)\n",
    "\n",
    "            product_name = driver.find_element_by_xpath(product_name_xpath)\n",
    "            product_price = driver.find_element_by_xpath(product_price_xpath)\n",
    "            product_enroll = driver.find_element_by_xpath(product_enroll_xpath)\n",
    "\n",
    "            print(product_name.text)\n",
    "            print(product_price.text)\n",
    "            print(product_enroll.text)\n",
    "\n",
    "            product_name_list.append(product_name.text)\n",
    "            product_price_list.append(product_price.text)\n",
    "            product_enroll_list.append(product_enroll.text)\n",
    "\n",
    "            time.sleep(1)"
   ]
  },
  {
   "cell_type": "code",
   "execution_count": 246,
   "metadata": {
    "ExecuteTime": {
     "end_time": "2020-05-26T09:02:36.285719Z",
     "start_time": "2020-05-26T09:01:26.406394Z"
    }
   },
   "outputs": [
    {
     "name": "stdout",
     "output_type": "stream",
     "text": [
      "Page: 1\n",
      "\n",
      "인텔 코어i7-10세대 10700K (코멧레이크S) (정품)\n",
      "551,000\n",
      "2020.05\n",
      "AMD 애슬론 3000G (레이븐 릿지) (정품)\n",
      "70,000\n",
      "2019.11\n",
      "AMD 라이젠5-3세대 3600 (마티스) (정품)\n",
      "248,000\n",
      "2019.07\n",
      "AMD 라이젠7-3세대 3700X (마티스) (정품)\n",
      "417,000\n",
      "2019.07\n",
      "인텔 코어i5-9세대 9400F (커피레이크-R) (정품)\n",
      "214,000\n",
      "2019.01\n",
      "AMD 라이젠5-3세대 3500X (마티스) (멀티팩)\n",
      "198,000\n",
      "2019.10\n",
      "인텔 코어i7-9세대 9700K (커피레이크-R) (정품)\n",
      "545,000\n",
      "2018.10\n",
      "AMD 라이젠3-2세대 3200G (피카소) (정품)\n",
      "128,000\n",
      "2019.07\n",
      "인텔 코어i3-9세대 9100F (커피레이크-R) (정품)\n",
      "104,000\n",
      "2019.05\n",
      "AMD 라이젠3-3세대 3300X (마티스) (정품)\n",
      "176,000\n",
      "2020.05\n",
      "인텔 코어i5-9세대 9600KF (커피레이크-R) (정품)\n",
      "291,000\n",
      "2019.03\n",
      "인텔 코어i9-9세대 9900K (커피레이크-R) (정품)\n",
      "747,000\n",
      "2018.10\n",
      "인텔 코어i9-10세대 10900K (코멧레이크S) (정품)\n",
      "922,000\n",
      "2020.05\n",
      "AMD 라이젠3-1세대 2200G (레이븐 릿지) (정품)\n",
      "112,000\n",
      "2018.02\n",
      "인텔 코어i7-9세대 9700F (커피레이크-R) (정품)\n",
      "495,000\n",
      "2019.05\n",
      "AMD 라이젠5-2세대 3400G (피카소) (멀티팩)\n",
      "176,000\n",
      "2019.12\n",
      "AMD 라이젠5-3세대 3500 (마티스) (멀티팩)\n",
      "179,000\n",
      "2019.11\n",
      "AMD 라이젠9-3세대 3900X (마티스) (정품)\n",
      "667,000\n",
      "2019.07\n",
      "인텔 코어i7-9세대 9700KF (커피레이크-R) (정품)\n",
      "519,000\n",
      "2019.03\n",
      "AMD 라이젠9-3세대 3950X (마티스) (정품)\n",
      "1,044,000\n",
      "2019.11\n",
      "인텔 코어i7-10세대 10700K (코멧레이크S) (정품)\n",
      "551,000\n",
      "2020.05\n",
      "AMD 라이젠5-3세대 3600X (마티스) (정품)\n",
      "306,000\n",
      "2019.07\n",
      "Page: 2\n",
      "\n",
      "인텔 코어i5-9세대 9600K (커피레이크-R) (정품)\n",
      "321,000\n",
      "2018.10\n",
      "AMD 라이젠7-3세대 3800X (마티스) (정품)\n",
      "475,000\n",
      "2019.07\n",
      "AMD 애슬론 3000G (레이븐 릿지) (정품)\n",
      "70,000\n",
      "2019.11\n",
      "AMD 라이젠5-2세대 2600 (피나클 릿지) (정품)\n",
      "232,000\n",
      "2018.04\n",
      "AMD 라이젠5-2세대 2600X (피나클 릿지) (정품)\n",
      "203,000\n",
      "2018.04\n",
      "AMD 라이젠3-3세대 3100 (마티스) (정품)\n",
      "143,000\n",
      "2020.05\n",
      "인텔 코어i7-9세대 9700 (커피레이크-R) (정품)\n",
      "530,000\n",
      "2019.07\n",
      "인텔 코어i5-10세대 10400 (코멧레이크S) (정품)\n",
      "250,000\n",
      "2020.05\n",
      "AMD 라이젠5-2세대 3400G (피카소) (정품)\n",
      "194,000\n",
      "2019.07\n",
      "AMD 라이젠5-3세대 3600 (마티스) (멀티팩)\n",
      "245,000\n",
      "2019.07\n",
      "AMD 라이젠 스레드리퍼 3990X (캐슬 픽) (정품)\n",
      "5,515,000\n",
      "2020.02\n",
      "인텔 코어i3-9세대 9100 (커피레이크-R) (정품)\n",
      "159,000\n",
      "2019.10\n",
      "인텔 코어X-시리즈 i9-10900X (캐스케이드레이크) (정품)\n",
      "987,000\n",
      "2019.12\n",
      "인텔 코어i9-9세대 9900KS (커피레이크-R) (정품)\n",
      "1,766,000\n",
      "2019.10\n",
      "인텔 펜티엄 골드 G5400 (커피레이크) (정품)\n",
      "78,000\n",
      "2018.04\n",
      "인텔 코어X-시리즈 i9-10920X (캐스케이드레이크) (정품)\n",
      "1,105,000\n",
      "2019.12\n",
      "AMD 애슬론 200GE (레이븐 릿지) (정품)\n",
      "78,000\n",
      "2018.10\n",
      "인텔 코어i5-6세대 6600 (스카이레이크) (정품)\n",
      "270,000\n",
      "2015.09\n",
      "인텔 코어i5-8세대 8600 (커피레이크) (정품)\n",
      "415,000\n",
      "2018.04\n",
      "인텔 펜티엄 골드 G5420 (커피레이크-R) (정품)\n",
      "78,000\n",
      "2019.07\n",
      "Page: 3\n",
      "\n",
      "인텔 코어i9-9세대 9900 (커피레이크-R) (정품)\n",
      "608,000\n",
      "2019.08\n",
      "인텔 코어i5-9세대 9500F (커피레이크-R) (정품)\n",
      "282,000\n",
      "2019.06\n",
      "인텔 코어i9-9세대 9900KF (커피레이크-R) (정품)\n",
      "745,000\n",
      "2019.03\n",
      "인텔 셀러론 G4930 (커피레이크-R) (정품)\n",
      "52,000\n",
      "2019.09\n",
      "AMD 라이젠7-3세대 3700X (마티스) (멀티팩)\n",
      "421,000\n",
      "2019.09\n",
      "인텔 셀러론 G3930 (카비레이크) (정품)\n",
      "58,000\n",
      "2017.01\n",
      "인텔 코어i5-9세대 9500 (커피레이크-R) (정품)\n",
      "303,000\n",
      "2019.07\n",
      "AMD 라이젠 스레드리퍼 3960X (캐슬 픽) (정품)\n",
      "1,916,000\n",
      "2019.11\n"
     ]
    }
   ],
   "source": [
    "crawl_date = str(datetime.datetime.now().year) + \"-\" + str(datetime.datetime.now().month) + \"-\" + str(datetime.datetime.now().day)\n",
    "crawl_time = datetime.datetime.now().hour\n",
    "\n",
    "product_name_list = []\n",
    "product_price_list = []\n",
    "product_enroll_list = []\n",
    "\n",
    "for i in range(1, 4):\n",
    "    print(\"Page: {}\\n\".format(i))\n",
    "    page_xpath = \"/html/body/form/div/div[3]/div/a[{}]\".format(i)\n",
    "    driver.find_element_by_xpath(page_xpath).click()\n",
    "    time.sleep(0.5)\n",
    "    \n",
    "    if i == 1:\n",
    "        for j in range(1, 23):\n",
    "            product_name_xpath =  \"/html/body/form/div/div[2]/ul/li[{}]/div/div[2]/div[1]/a\".format(j)\n",
    "            product_price_xpath = \"/html/body/form/div/div[2]/ul/li[{}]/div/div[3]/div/dl/dd/span\".format(j)\n",
    "            product_enroll_xpath = \"/html/body/form/div/div[2]/ul/li[{}]/div/div[2]/div[2]/dl/dd\".format(j)\n",
    "\n",
    "            product_name = driver.find_element_by_xpath(product_name_xpath)\n",
    "            product_price = driver.find_element_by_xpath(product_price_xpath)\n",
    "            product_enroll = driver.find_element_by_xpath(product_enroll_xpath)\n",
    "\n",
    "            print(product_name.text)\n",
    "            print(product_price.text)\n",
    "            print(product_enroll.text)\n",
    "\n",
    "            product_name_list.append(product_name.text)\n",
    "            product_price_list.append(product_price.text)\n",
    "            product_enroll_list.append(product_enroll.text)\n",
    "\n",
    "            time.sleep(1)\n",
    "\n",
    "    elif i == 2:\n",
    "        for j in range(1, 21):\n",
    "            product_name_xpath =  \"/html/body/form/div/div[2]/ul/li[{}]/div/div[2]/div[1]/a\".format(j)\n",
    "            product_price_xpath = \"/html/body/form/div/div[2]/ul/li[{}]/div/div[3]/div/dl/dd/span\".format(j)\n",
    "            product_enroll_xpath = \"/html/body/form/div/div[2]/ul/li[{}]/div/div[2]/div[2]/dl/dd\".format(j)\n",
    "\n",
    "            product_name = driver.find_element_by_xpath(product_name_xpath)\n",
    "            product_price = driver.find_element_by_xpath(product_price_xpath)\n",
    "            product_enroll = driver.find_element_by_xpath(product_enroll_xpath)\n",
    "\n",
    "            print(product_name.text)\n",
    "            print(product_price.text)\n",
    "            print(product_enroll.text)\n",
    "\n",
    "            product_name_list.append(product_name.text)\n",
    "            product_price_list.append(product_price.text)\n",
    "            product_enroll_list.append(product_enroll.text)\n",
    "\n",
    "            time.sleep(1)\n",
    "    \n",
    "    elif i == 3:\n",
    "        for j in range(1, 9):\n",
    "            product_name_xpath =  \"/html/body/form/div/div[2]/ul/li[{}]/div/div[2]/div[1]/a\".format(j)\n",
    "            product_price_xpath = \"/html/body/form/div/div[2]/ul/li[{}]/div/div[3]/div/dl/dd/span\".format(j)\n",
    "            product_enroll_xpath = \"/html/body/form/div/div[2]/ul/li[{}]/div/div[2]/div[2]/dl/dd\".format(j)\n",
    "\n",
    "            product_name = driver.find_element_by_xpath(product_name_xpath)\n",
    "            product_price = driver.find_element_by_xpath(product_price_xpath)\n",
    "            product_enroll = driver.find_element_by_xpath(product_enroll_xpath)\n",
    "\n",
    "            print(product_name.text)\n",
    "            print(product_price.text)\n",
    "            print(product_enroll.text)\n",
    "\n",
    "            product_name_list.append(product_name.text)\n",
    "            product_price_list.append(product_price.text)\n",
    "            product_enroll_list.append(product_enroll.text)\n",
    "\n",
    "            time.sleep(1)"
   ]
  },
  {
   "cell_type": "code",
   "execution_count": null,
   "metadata": {
    "ExecuteTime": {
     "end_time": "2020-05-26T09:04:10.980732Z",
     "start_time": "2020-05-26T09:04:10.973759Z"
    }
   },
   "outputs": [],
   "source": [
    "product_price_list = [int(x.replace(\",\", \"\")) for x in product_price_list]\n",
    "product_enroll_list = [str(x) + \"-01\" for x in product_enroll_list]"
   ]
  },
  {
   "cell_type": "code",
   "execution_count": 256,
   "metadata": {
    "ExecuteTime": {
     "end_time": "2020-05-26T09:04:58.137548Z",
     "start_time": "2020-05-26T09:04:58.132556Z"
    },
    "scrolled": true
   },
   "outputs": [],
   "source": [
    "product_enroll_list = [x.replace(\".\", \"-\") for x in product_enroll_list]"
   ]
  },
  {
   "cell_type": "code",
   "execution_count": 44,
   "metadata": {
    "ExecuteTime": {
     "end_time": "2020-05-26T15:13:08.053997Z",
     "start_time": "2020-05-26T15:13:00.031802Z"
    }
   },
   "outputs": [],
   "source": [
    "driver.quit()"
   ]
  },
  {
   "cell_type": "code",
   "execution_count": 260,
   "metadata": {
    "ExecuteTime": {
     "end_time": "2020-05-26T09:05:46.887202Z",
     "start_time": "2020-05-26T09:05:46.878211Z"
    }
   },
   "outputs": [],
   "source": [
    "class DBConnect:\n",
    "    def __init__(self):\n",
    "        self.conn = pymysql.connect(host = 'localhost', user = 'root', password = '4643' , db = 'danawa', charset = 'utf8')\n",
    "        self.curs = self.conn.cursor(pymysql.cursors.DictCursor)\n",
    "    \n",
    "    def insert(self, date, hour, rank, name, price, release):\n",
    "        try:\n",
    "            sql = \"\"\"INSERT INTO cpu(DATE, HOUR, RANKING, NAME, PRICE, RELEASE_DATE) VALUES (%s, %s, %s, %s, %s, %s)\"\"\"\n",
    "            \n",
    "            for i in range(50):\n",
    "                \n",
    "                self.curs.execute(sql, (date, hour, i+1, name[i], price[i], release[i]))\n",
    "            \n",
    "            self.conn.commit()\n",
    "            \n",
    "        except Exception as e:\n",
    "            print(e)\n",
    "        \n",
    "        finally:\n",
    "            self.conn.close()"
   ]
  },
  {
   "cell_type": "code",
   "execution_count": 261,
   "metadata": {
    "ExecuteTime": {
     "end_time": "2020-05-26T09:05:47.047677Z",
     "start_time": "2020-05-26T09:05:47.040636Z"
    }
   },
   "outputs": [
    {
     "name": "stdout",
     "output_type": "stream",
     "text": [
      "crawl_date type:  <class 'str'>\n",
      "crawl_time type:  <class 'int'>\n",
      "rank type:  <class 'int'>\n",
      "product_name_list type:  <class 'str'>\n",
      "product_price_list type:  <class 'int'>\n",
      "realese type:  <class 'str'>\n"
     ]
    }
   ],
   "source": [
    "print(\"crawl_date type: \",type(crawl_date))\n",
    "print(\"crawl_time type: \", type(crawl_time))\n",
    "print(\"rank type: \", type(rank[0]))\n",
    "print(\"product_name_list type: \", type(product_name_list[0]))\n",
    "print(\"product_price_list type: \", type(product_price_list[0]))\n",
    "print(\"realese type: \", type(product_enroll_list[0]))"
   ]
  },
  {
   "cell_type": "code",
   "execution_count": 262,
   "metadata": {
    "ExecuteTime": {
     "end_time": "2020-05-26T09:05:47.243658Z",
     "start_time": "2020-05-26T09:05:47.239643Z"
    }
   },
   "outputs": [],
   "source": [
    "rank = range(1, 51)"
   ]
  },
  {
   "cell_type": "code",
   "execution_count": 263,
   "metadata": {
    "ExecuteTime": {
     "end_time": "2020-05-26T09:05:47.878597Z",
     "start_time": "2020-05-26T09:05:47.832329Z"
    }
   },
   "outputs": [],
   "source": [
    "db = DBConnect()\n",
    "\n",
    "db.insert(crawl_date, crawl_time, rank, product_name_list, product_price_list, product_enroll_list)"
   ]
  }
 ],
 "metadata": {
  "kernelspec": {
   "display_name": "Python 3",
   "language": "python",
   "name": "python3"
  },
  "toc": {
   "base_numbering": 1,
   "nav_menu": {},
   "number_sections": true,
   "sideBar": true,
   "skip_h1_title": false,
   "title_cell": "Table of Contents",
   "title_sidebar": "Contents",
   "toc_cell": false,
   "toc_position": {},
   "toc_section_display": true,
   "toc_window_display": false
  },
  "varInspector": {
   "cols": {
    "lenName": 16,
    "lenType": 16,
    "lenVar": 40
   },
   "kernels_config": {
    "python": {
     "delete_cmd_postfix": "",
     "delete_cmd_prefix": "del ",
     "library": "var_list.py",
     "varRefreshCmd": "print(var_dic_list())"
    },
    "r": {
     "delete_cmd_postfix": ") ",
     "delete_cmd_prefix": "rm(",
     "library": "var_list.r",
     "varRefreshCmd": "cat(var_dic_list()) "
    }
   },
   "types_to_exclude": [
    "module",
    "function",
    "builtin_function_or_method",
    "instance",
    "_Feature"
   ],
   "window_display": false
  }
 },
 "nbformat": 4,
 "nbformat_minor": 4
}
